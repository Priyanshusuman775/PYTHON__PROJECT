{
 "cells": [
  {
   "cell_type": "code",
   "execution_count": 98,
   "id": "6c128beb-30db-4a64-9133-c3058308aceb",
   "metadata": {},
   "outputs": [],
   "source": [
    "import numpy as np\n",
    "import cv2\n",
    "import os\n",
    "import glob\n",
    "from sklearn.decomposition import PCA\n",
    "from sklearn.preprocessing import StandardScaler\n",
    "import tensorflow as tf\n",
    "from tensorflow.keras.models import Sequential\n",
    "from tensorflow.keras.layers import Dense\n",
    "import matplotlib.pyplot as plt\n",
    "import pandas as pd\n"
   ]
  },
  {
   "cell_type": "code",
   "execution_count": 99,
   "id": "41e6a5f9-b880-42a5-a44c-8392b342beb8",
   "metadata": {},
   "outputs": [],
   "source": [
    "import pandas as pd\n",
    "test = pd.read_csv(\"test_csv\")\n",
    "train = pd.read_csv(\"train_csv\")"
   ]
  },
  {
   "cell_type": "code",
   "execution_count": 60,
   "id": "cad65306-aad6-45e9-9793-2649c7e166e4",
   "metadata": {},
   "outputs": [
    {
     "data": {
      "text/html": [
       "<div>\n",
       "<style scoped>\n",
       "    .dataframe tbody tr th:only-of-type {\n",
       "        vertical-align: middle;\n",
       "    }\n",
       "\n",
       "    .dataframe tbody tr th {\n",
       "        vertical-align: top;\n",
       "    }\n",
       "\n",
       "    .dataframe thead th {\n",
       "        text-align: right;\n",
       "    }\n",
       "</style>\n",
       "<table border=\"1\" class=\"dataframe\">\n",
       "  <thead>\n",
       "    <tr style=\"text-align: right;\">\n",
       "      <th></th>\n",
       "      <th>vidid</th>\n",
       "      <th>views</th>\n",
       "      <th>likes</th>\n",
       "      <th>dislikes</th>\n",
       "      <th>comment</th>\n",
       "      <th>published</th>\n",
       "      <th>duration</th>\n",
       "      <th>category</th>\n",
       "    </tr>\n",
       "  </thead>\n",
       "  <tbody>\n",
       "    <tr>\n",
       "      <th>0</th>\n",
       "      <td>VID_1054</td>\n",
       "      <td>440238</td>\n",
       "      <td>6153</td>\n",
       "      <td>218</td>\n",
       "      <td>1377</td>\n",
       "      <td>2017-02-18</td>\n",
       "      <td>PT7M29S</td>\n",
       "      <td>B</td>\n",
       "    </tr>\n",
       "    <tr>\n",
       "      <th>1</th>\n",
       "      <td>VID_18629</td>\n",
       "      <td>1040132</td>\n",
       "      <td>8171</td>\n",
       "      <td>340</td>\n",
       "      <td>1047</td>\n",
       "      <td>2016-06-28</td>\n",
       "      <td>PT6M29S</td>\n",
       "      <td>F</td>\n",
       "    </tr>\n",
       "    <tr>\n",
       "      <th>2</th>\n",
       "      <td>VID_13967</td>\n",
       "      <td>28534</td>\n",
       "      <td>31</td>\n",
       "      <td>11</td>\n",
       "      <td>1</td>\n",
       "      <td>2014-03-10</td>\n",
       "      <td>PT37M54S</td>\n",
       "      <td>D</td>\n",
       "    </tr>\n",
       "    <tr>\n",
       "      <th>3</th>\n",
       "      <td>VID_19442</td>\n",
       "      <td>1316715</td>\n",
       "      <td>2284</td>\n",
       "      <td>250</td>\n",
       "      <td>274</td>\n",
       "      <td>2010-06-05</td>\n",
       "      <td>PT9M55S</td>\n",
       "      <td>G</td>\n",
       "    </tr>\n",
       "    <tr>\n",
       "      <th>4</th>\n",
       "      <td>VID_770</td>\n",
       "      <td>1893173</td>\n",
       "      <td>2519</td>\n",
       "      <td>225</td>\n",
       "      <td>116</td>\n",
       "      <td>2016-09-03</td>\n",
       "      <td>PT3M8S</td>\n",
       "      <td>B</td>\n",
       "    </tr>\n",
       "    <tr>\n",
       "      <th>...</th>\n",
       "      <td>...</td>\n",
       "      <td>...</td>\n",
       "      <td>...</td>\n",
       "      <td>...</td>\n",
       "      <td>...</td>\n",
       "      <td>...</td>\n",
       "      <td>...</td>\n",
       "      <td>...</td>\n",
       "    </tr>\n",
       "    <tr>\n",
       "      <th>8759</th>\n",
       "      <td>VID_2944</td>\n",
       "      <td>111205</td>\n",
       "      <td>471</td>\n",
       "      <td>14</td>\n",
       "      <td>101</td>\n",
       "      <td>2011-04-19</td>\n",
       "      <td>PT3M14S</td>\n",
       "      <td>C</td>\n",
       "    </tr>\n",
       "    <tr>\n",
       "      <th>8760</th>\n",
       "      <td>VID_8195</td>\n",
       "      <td>1074457</td>\n",
       "      <td>1024</td>\n",
       "      <td>195</td>\n",
       "      <td>65</td>\n",
       "      <td>2016-06-03</td>\n",
       "      <td>PT2H18M35S</td>\n",
       "      <td>D</td>\n",
       "    </tr>\n",
       "    <tr>\n",
       "      <th>8761</th>\n",
       "      <td>VID_18973</td>\n",
       "      <td>1891692</td>\n",
       "      <td>4606</td>\n",
       "      <td>1109</td>\n",
       "      <td>191</td>\n",
       "      <td>2016-06-26</td>\n",
       "      <td>PT7M14S</td>\n",
       "      <td>F</td>\n",
       "    </tr>\n",
       "    <tr>\n",
       "      <th>8762</th>\n",
       "      <td>VID_5849</td>\n",
       "      <td>714859</td>\n",
       "      <td>1639</td>\n",
       "      <td>151</td>\n",
       "      <td>382</td>\n",
       "      <td>2016-03-23</td>\n",
       "      <td>PT3M15S</td>\n",
       "      <td>D</td>\n",
       "    </tr>\n",
       "    <tr>\n",
       "      <th>8763</th>\n",
       "      <td>VID_8494</td>\n",
       "      <td>5297</td>\n",
       "      <td>12</td>\n",
       "      <td>1</td>\n",
       "      <td>0</td>\n",
       "      <td>2016-12-19</td>\n",
       "      <td>PT10M14S</td>\n",
       "      <td>D</td>\n",
       "    </tr>\n",
       "  </tbody>\n",
       "</table>\n",
       "<p>8764 rows × 8 columns</p>\n",
       "</div>"
      ],
      "text/plain": [
       "          vidid    views likes dislikes comment   published    duration  \\\n",
       "0      VID_1054   440238  6153      218    1377  2017-02-18     PT7M29S   \n",
       "1     VID_18629  1040132  8171      340    1047  2016-06-28     PT6M29S   \n",
       "2     VID_13967    28534    31       11       1  2014-03-10    PT37M54S   \n",
       "3     VID_19442  1316715  2284      250     274  2010-06-05     PT9M55S   \n",
       "4       VID_770  1893173  2519      225     116  2016-09-03      PT3M8S   \n",
       "...         ...      ...   ...      ...     ...         ...         ...   \n",
       "8759   VID_2944   111205   471       14     101  2011-04-19     PT3M14S   \n",
       "8760   VID_8195  1074457  1024      195      65  2016-06-03  PT2H18M35S   \n",
       "8761  VID_18973  1891692  4606     1109     191  2016-06-26     PT7M14S   \n",
       "8762   VID_5849   714859  1639      151     382  2016-03-23     PT3M15S   \n",
       "8763   VID_8494     5297    12        1       0  2016-12-19    PT10M14S   \n",
       "\n",
       "     category  \n",
       "0           B  \n",
       "1           F  \n",
       "2           D  \n",
       "3           G  \n",
       "4           B  \n",
       "...       ...  \n",
       "8759        C  \n",
       "8760        D  \n",
       "8761        F  \n",
       "8762        D  \n",
       "8763        D  \n",
       "\n",
       "[8764 rows x 8 columns]"
      ]
     },
     "execution_count": 60,
     "metadata": {},
     "output_type": "execute_result"
    }
   ],
   "source": [
    "test"
   ]
  },
  {
   "cell_type": "code",
   "execution_count": 61,
   "id": "181f91fb-004f-4a83-a264-e6bc82ae13fb",
   "metadata": {},
   "outputs": [
    {
     "data": {
      "text/html": [
       "<div>\n",
       "<style scoped>\n",
       "    .dataframe tbody tr th:only-of-type {\n",
       "        vertical-align: middle;\n",
       "    }\n",
       "\n",
       "    .dataframe tbody tr th {\n",
       "        vertical-align: top;\n",
       "    }\n",
       "\n",
       "    .dataframe thead th {\n",
       "        text-align: right;\n",
       "    }\n",
       "</style>\n",
       "<table border=\"1\" class=\"dataframe\">\n",
       "  <thead>\n",
       "    <tr style=\"text-align: right;\">\n",
       "      <th></th>\n",
       "      <th>vidid</th>\n",
       "      <th>adview</th>\n",
       "      <th>views</th>\n",
       "      <th>likes</th>\n",
       "      <th>dislikes</th>\n",
       "      <th>comment</th>\n",
       "      <th>published</th>\n",
       "      <th>duration</th>\n",
       "      <th>category</th>\n",
       "    </tr>\n",
       "  </thead>\n",
       "  <tbody>\n",
       "    <tr>\n",
       "      <th>0</th>\n",
       "      <td>VID_18655</td>\n",
       "      <td>40</td>\n",
       "      <td>1031602</td>\n",
       "      <td>8523</td>\n",
       "      <td>363</td>\n",
       "      <td>1095</td>\n",
       "      <td>2016-09-14</td>\n",
       "      <td>PT7M37S</td>\n",
       "      <td>F</td>\n",
       "    </tr>\n",
       "    <tr>\n",
       "      <th>1</th>\n",
       "      <td>VID_14135</td>\n",
       "      <td>2</td>\n",
       "      <td>1707</td>\n",
       "      <td>56</td>\n",
       "      <td>2</td>\n",
       "      <td>6</td>\n",
       "      <td>2016-10-01</td>\n",
       "      <td>PT9M30S</td>\n",
       "      <td>D</td>\n",
       "    </tr>\n",
       "    <tr>\n",
       "      <th>2</th>\n",
       "      <td>VID_2187</td>\n",
       "      <td>1</td>\n",
       "      <td>2023</td>\n",
       "      <td>25</td>\n",
       "      <td>0</td>\n",
       "      <td>2</td>\n",
       "      <td>2016-07-02</td>\n",
       "      <td>PT2M16S</td>\n",
       "      <td>C</td>\n",
       "    </tr>\n",
       "    <tr>\n",
       "      <th>3</th>\n",
       "      <td>VID_23096</td>\n",
       "      <td>6</td>\n",
       "      <td>620860</td>\n",
       "      <td>777</td>\n",
       "      <td>161</td>\n",
       "      <td>153</td>\n",
       "      <td>2016-07-27</td>\n",
       "      <td>PT4M22S</td>\n",
       "      <td>H</td>\n",
       "    </tr>\n",
       "    <tr>\n",
       "      <th>4</th>\n",
       "      <td>VID_10175</td>\n",
       "      <td>1</td>\n",
       "      <td>666</td>\n",
       "      <td>1</td>\n",
       "      <td>0</td>\n",
       "      <td>0</td>\n",
       "      <td>2016-06-29</td>\n",
       "      <td>PT31S</td>\n",
       "      <td>D</td>\n",
       "    </tr>\n",
       "    <tr>\n",
       "      <th>...</th>\n",
       "      <td>...</td>\n",
       "      <td>...</td>\n",
       "      <td>...</td>\n",
       "      <td>...</td>\n",
       "      <td>...</td>\n",
       "      <td>...</td>\n",
       "      <td>...</td>\n",
       "      <td>...</td>\n",
       "      <td>...</td>\n",
       "    </tr>\n",
       "    <tr>\n",
       "      <th>14994</th>\n",
       "      <td>VID_31</td>\n",
       "      <td>2</td>\n",
       "      <td>525949</td>\n",
       "      <td>1137</td>\n",
       "      <td>83</td>\n",
       "      <td>86</td>\n",
       "      <td>2015-05-18</td>\n",
       "      <td>PT6M10S</td>\n",
       "      <td>A</td>\n",
       "    </tr>\n",
       "    <tr>\n",
       "      <th>14995</th>\n",
       "      <td>VID_5861</td>\n",
       "      <td>1</td>\n",
       "      <td>665673</td>\n",
       "      <td>3849</td>\n",
       "      <td>156</td>\n",
       "      <td>569</td>\n",
       "      <td>2015-10-20</td>\n",
       "      <td>PT3M56S</td>\n",
       "      <td>D</td>\n",
       "    </tr>\n",
       "    <tr>\n",
       "      <th>14996</th>\n",
       "      <td>VID_805</td>\n",
       "      <td>4</td>\n",
       "      <td>3479</td>\n",
       "      <td>16</td>\n",
       "      <td>1</td>\n",
       "      <td>1</td>\n",
       "      <td>2013-08-23</td>\n",
       "      <td>PT3M13S</td>\n",
       "      <td>B</td>\n",
       "    </tr>\n",
       "    <tr>\n",
       "      <th>14997</th>\n",
       "      <td>VID_19843</td>\n",
       "      <td>1</td>\n",
       "      <td>963</td>\n",
       "      <td>0</td>\n",
       "      <td>0</td>\n",
       "      <td>0</td>\n",
       "      <td>2010-10-02</td>\n",
       "      <td>PT26S</td>\n",
       "      <td>G</td>\n",
       "    </tr>\n",
       "    <tr>\n",
       "      <th>14998</th>\n",
       "      <td>VID_8534</td>\n",
       "      <td>1</td>\n",
       "      <td>15212</td>\n",
       "      <td>22</td>\n",
       "      <td>5</td>\n",
       "      <td>4</td>\n",
       "      <td>2016-02-19</td>\n",
       "      <td>PT1M1S</td>\n",
       "      <td>D</td>\n",
       "    </tr>\n",
       "  </tbody>\n",
       "</table>\n",
       "<p>14999 rows × 9 columns</p>\n",
       "</div>"
      ],
      "text/plain": [
       "           vidid  adview    views likes dislikes comment   published duration  \\\n",
       "0      VID_18655      40  1031602  8523      363    1095  2016-09-14  PT7M37S   \n",
       "1      VID_14135       2     1707    56        2       6  2016-10-01  PT9M30S   \n",
       "2       VID_2187       1     2023    25        0       2  2016-07-02  PT2M16S   \n",
       "3      VID_23096       6   620860   777      161     153  2016-07-27  PT4M22S   \n",
       "4      VID_10175       1      666     1        0       0  2016-06-29    PT31S   \n",
       "...          ...     ...      ...   ...      ...     ...         ...      ...   \n",
       "14994     VID_31       2   525949  1137       83      86  2015-05-18  PT6M10S   \n",
       "14995   VID_5861       1   665673  3849      156     569  2015-10-20  PT3M56S   \n",
       "14996    VID_805       4     3479    16        1       1  2013-08-23  PT3M13S   \n",
       "14997  VID_19843       1      963     0        0       0  2010-10-02    PT26S   \n",
       "14998   VID_8534       1    15212    22        5       4  2016-02-19   PT1M1S   \n",
       "\n",
       "      category  \n",
       "0            F  \n",
       "1            D  \n",
       "2            C  \n",
       "3            H  \n",
       "4            D  \n",
       "...        ...  \n",
       "14994        A  \n",
       "14995        D  \n",
       "14996        B  \n",
       "14997        G  \n",
       "14998        D  \n",
       "\n",
       "[14999 rows x 9 columns]"
      ]
     },
     "execution_count": 61,
     "metadata": {},
     "output_type": "execute_result"
    }
   ],
   "source": [
    "train"
   ]
  },
  {
   "cell_type": "code",
   "execution_count": 62,
   "id": "a6ac6a29-2af8-4fc7-a4b1-9a69036d7436",
   "metadata": {},
   "outputs": [
    {
     "data": {
      "text/html": [
       "<div>\n",
       "<style scoped>\n",
       "    .dataframe tbody tr th:only-of-type {\n",
       "        vertical-align: middle;\n",
       "    }\n",
       "\n",
       "    .dataframe tbody tr th {\n",
       "        vertical-align: top;\n",
       "    }\n",
       "\n",
       "    .dataframe thead th {\n",
       "        text-align: right;\n",
       "    }\n",
       "</style>\n",
       "<table border=\"1\" class=\"dataframe\">\n",
       "  <thead>\n",
       "    <tr style=\"text-align: right;\">\n",
       "      <th></th>\n",
       "      <th>vidid</th>\n",
       "      <th>adview</th>\n",
       "      <th>views</th>\n",
       "      <th>likes</th>\n",
       "      <th>dislikes</th>\n",
       "      <th>comment</th>\n",
       "      <th>published</th>\n",
       "      <th>duration</th>\n",
       "      <th>category</th>\n",
       "    </tr>\n",
       "  </thead>\n",
       "  <tbody>\n",
       "    <tr>\n",
       "      <th>0</th>\n",
       "      <td>VID_18655</td>\n",
       "      <td>40</td>\n",
       "      <td>1031602</td>\n",
       "      <td>8523</td>\n",
       "      <td>363</td>\n",
       "      <td>1095</td>\n",
       "      <td>2016-09-14</td>\n",
       "      <td>PT7M37S</td>\n",
       "      <td>F</td>\n",
       "    </tr>\n",
       "    <tr>\n",
       "      <th>1</th>\n",
       "      <td>VID_14135</td>\n",
       "      <td>2</td>\n",
       "      <td>1707</td>\n",
       "      <td>56</td>\n",
       "      <td>2</td>\n",
       "      <td>6</td>\n",
       "      <td>2016-10-01</td>\n",
       "      <td>PT9M30S</td>\n",
       "      <td>D</td>\n",
       "    </tr>\n",
       "    <tr>\n",
       "      <th>2</th>\n",
       "      <td>VID_2187</td>\n",
       "      <td>1</td>\n",
       "      <td>2023</td>\n",
       "      <td>25</td>\n",
       "      <td>0</td>\n",
       "      <td>2</td>\n",
       "      <td>2016-07-02</td>\n",
       "      <td>PT2M16S</td>\n",
       "      <td>C</td>\n",
       "    </tr>\n",
       "    <tr>\n",
       "      <th>3</th>\n",
       "      <td>VID_23096</td>\n",
       "      <td>6</td>\n",
       "      <td>620860</td>\n",
       "      <td>777</td>\n",
       "      <td>161</td>\n",
       "      <td>153</td>\n",
       "      <td>2016-07-27</td>\n",
       "      <td>PT4M22S</td>\n",
       "      <td>H</td>\n",
       "    </tr>\n",
       "    <tr>\n",
       "      <th>4</th>\n",
       "      <td>VID_10175</td>\n",
       "      <td>1</td>\n",
       "      <td>666</td>\n",
       "      <td>1</td>\n",
       "      <td>0</td>\n",
       "      <td>0</td>\n",
       "      <td>2016-06-29</td>\n",
       "      <td>PT31S</td>\n",
       "      <td>D</td>\n",
       "    </tr>\n",
       "  </tbody>\n",
       "</table>\n",
       "</div>"
      ],
      "text/plain": [
       "       vidid  adview    views likes dislikes comment   published duration  \\\n",
       "0  VID_18655      40  1031602  8523      363    1095  2016-09-14  PT7M37S   \n",
       "1  VID_14135       2     1707    56        2       6  2016-10-01  PT9M30S   \n",
       "2   VID_2187       1     2023    25        0       2  2016-07-02  PT2M16S   \n",
       "3  VID_23096       6   620860   777      161     153  2016-07-27  PT4M22S   \n",
       "4  VID_10175       1      666     1        0       0  2016-06-29    PT31S   \n",
       "\n",
       "  category  \n",
       "0        F  \n",
       "1        D  \n",
       "2        C  \n",
       "3        H  \n",
       "4        D  "
      ]
     },
     "execution_count": 62,
     "metadata": {},
     "output_type": "execute_result"
    }
   ],
   "source": [
    "train.head()"
   ]
  },
  {
   "cell_type": "code",
   "execution_count": 63,
   "id": "ac7290f8-83d2-4247-8318-f6fb7ffa0429",
   "metadata": {},
   "outputs": [
    {
     "data": {
      "text/html": [
       "<div>\n",
       "<style scoped>\n",
       "    .dataframe tbody tr th:only-of-type {\n",
       "        vertical-align: middle;\n",
       "    }\n",
       "\n",
       "    .dataframe tbody tr th {\n",
       "        vertical-align: top;\n",
       "    }\n",
       "\n",
       "    .dataframe thead th {\n",
       "        text-align: right;\n",
       "    }\n",
       "</style>\n",
       "<table border=\"1\" class=\"dataframe\">\n",
       "  <thead>\n",
       "    <tr style=\"text-align: right;\">\n",
       "      <th></th>\n",
       "      <th>vidid</th>\n",
       "      <th>views</th>\n",
       "      <th>likes</th>\n",
       "      <th>dislikes</th>\n",
       "      <th>comment</th>\n",
       "      <th>published</th>\n",
       "      <th>duration</th>\n",
       "      <th>category</th>\n",
       "    </tr>\n",
       "  </thead>\n",
       "  <tbody>\n",
       "    <tr>\n",
       "      <th>0</th>\n",
       "      <td>VID_1054</td>\n",
       "      <td>440238</td>\n",
       "      <td>6153</td>\n",
       "      <td>218</td>\n",
       "      <td>1377</td>\n",
       "      <td>2017-02-18</td>\n",
       "      <td>PT7M29S</td>\n",
       "      <td>B</td>\n",
       "    </tr>\n",
       "    <tr>\n",
       "      <th>1</th>\n",
       "      <td>VID_18629</td>\n",
       "      <td>1040132</td>\n",
       "      <td>8171</td>\n",
       "      <td>340</td>\n",
       "      <td>1047</td>\n",
       "      <td>2016-06-28</td>\n",
       "      <td>PT6M29S</td>\n",
       "      <td>F</td>\n",
       "    </tr>\n",
       "    <tr>\n",
       "      <th>2</th>\n",
       "      <td>VID_13967</td>\n",
       "      <td>28534</td>\n",
       "      <td>31</td>\n",
       "      <td>11</td>\n",
       "      <td>1</td>\n",
       "      <td>2014-03-10</td>\n",
       "      <td>PT37M54S</td>\n",
       "      <td>D</td>\n",
       "    </tr>\n",
       "    <tr>\n",
       "      <th>3</th>\n",
       "      <td>VID_19442</td>\n",
       "      <td>1316715</td>\n",
       "      <td>2284</td>\n",
       "      <td>250</td>\n",
       "      <td>274</td>\n",
       "      <td>2010-06-05</td>\n",
       "      <td>PT9M55S</td>\n",
       "      <td>G</td>\n",
       "    </tr>\n",
       "    <tr>\n",
       "      <th>4</th>\n",
       "      <td>VID_770</td>\n",
       "      <td>1893173</td>\n",
       "      <td>2519</td>\n",
       "      <td>225</td>\n",
       "      <td>116</td>\n",
       "      <td>2016-09-03</td>\n",
       "      <td>PT3M8S</td>\n",
       "      <td>B</td>\n",
       "    </tr>\n",
       "  </tbody>\n",
       "</table>\n",
       "</div>"
      ],
      "text/plain": [
       "       vidid    views likes dislikes comment   published  duration category\n",
       "0   VID_1054   440238  6153      218    1377  2017-02-18   PT7M29S        B\n",
       "1  VID_18629  1040132  8171      340    1047  2016-06-28   PT6M29S        F\n",
       "2  VID_13967    28534    31       11       1  2014-03-10  PT37M54S        D\n",
       "3  VID_19442  1316715  2284      250     274  2010-06-05   PT9M55S        G\n",
       "4    VID_770  1893173  2519      225     116  2016-09-03    PT3M8S        B"
      ]
     },
     "execution_count": 63,
     "metadata": {},
     "output_type": "execute_result"
    }
   ],
   "source": [
    "test.head()"
   ]
  },
  {
   "cell_type": "code",
   "execution_count": 64,
   "id": "dc2a865a-8da5-4a4b-9a83-eb66667bebd0",
   "metadata": {},
   "outputs": [
    {
     "name": "stdout",
     "output_type": "stream",
     "text": [
      "<class 'pandas.core.frame.DataFrame'>\n",
      "RangeIndex: 14999 entries, 0 to 14998\n",
      "Data columns (total 9 columns):\n",
      " #   Column     Non-Null Count  Dtype \n",
      "---  ------     --------------  ----- \n",
      " 0   vidid      14999 non-null  object\n",
      " 1   adview     14999 non-null  int64 \n",
      " 2   views      14999 non-null  object\n",
      " 3   likes      14999 non-null  object\n",
      " 4   dislikes   14999 non-null  object\n",
      " 5   comment    14999 non-null  object\n",
      " 6   published  14999 non-null  object\n",
      " 7   duration   14999 non-null  object\n",
      " 8   category   14999 non-null  object\n",
      "dtypes: int64(1), object(8)\n",
      "memory usage: 1.0+ MB\n"
     ]
    }
   ],
   "source": [
    "train.info()"
   ]
  },
  {
   "cell_type": "code",
   "execution_count": 65,
   "id": "f0d8e626-a36f-4bbe-b745-0c4345ba41c3",
   "metadata": {},
   "outputs": [
    {
     "name": "stdout",
     "output_type": "stream",
     "text": [
      "<class 'pandas.core.frame.DataFrame'>\n",
      "RangeIndex: 8764 entries, 0 to 8763\n",
      "Data columns (total 8 columns):\n",
      " #   Column     Non-Null Count  Dtype \n",
      "---  ------     --------------  ----- \n",
      " 0   vidid      8764 non-null   object\n",
      " 1   views      8764 non-null   object\n",
      " 2   likes      8764 non-null   object\n",
      " 3   dislikes   8764 non-null   object\n",
      " 4   comment    8764 non-null   object\n",
      " 5   published  8764 non-null   object\n",
      " 6   duration   8764 non-null   object\n",
      " 7   category   8764 non-null   object\n",
      "dtypes: object(8)\n",
      "memory usage: 547.9+ KB\n"
     ]
    }
   ],
   "source": [
    "test.info()"
   ]
  },
  {
   "cell_type": "code",
   "execution_count": 66,
   "id": "dd7e4d01-22c3-4071-a0f7-95f1cec5706f",
   "metadata": {},
   "outputs": [
    {
     "data": {
      "text/plain": [
       "vidid        0\n",
       "adview       0\n",
       "views        0\n",
       "likes        0\n",
       "dislikes     0\n",
       "comment      0\n",
       "published    0\n",
       "duration     0\n",
       "category     0\n",
       "dtype: int64"
      ]
     },
     "execution_count": 66,
     "metadata": {},
     "output_type": "execute_result"
    }
   ],
   "source": [
    "train.isnull().sum()\n"
   ]
  },
  {
   "cell_type": "code",
   "execution_count": 67,
   "id": "29fb4cff-a77a-44d1-a3b1-8111a5f67e33",
   "metadata": {},
   "outputs": [
    {
     "data": {
      "text/plain": [
       "vidid        0\n",
       "views        0\n",
       "likes        0\n",
       "dislikes     0\n",
       "comment      0\n",
       "published    0\n",
       "duration     0\n",
       "category     0\n",
       "dtype: int64"
      ]
     },
     "execution_count": 67,
     "metadata": {},
     "output_type": "execute_result"
    }
   ],
   "source": [
    "test.isnull().sum()"
   ]
  },
  {
   "cell_type": "code",
   "execution_count": 68,
   "id": "ab331952-5883-43c7-8310-4f13e27c14ec",
   "metadata": {},
   "outputs": [],
   "source": [
    "test = pd.read_csv(\"test_csv\")"
   ]
  },
  {
   "cell_type": "code",
   "execution_count": 69,
   "id": "3d5301cb-dd0e-4036-8a0a-161607dcaeb3",
   "metadata": {},
   "outputs": [],
   "source": [
    "train = pd.read_csv(\"train_csv\")"
   ]
  },
  {
   "cell_type": "code",
   "execution_count": 70,
   "id": "649b09e7-c3ec-43ca-a80c-596e2e277b86",
   "metadata": {},
   "outputs": [
    {
     "data": {
      "text/html": [
       "<div>\n",
       "<style scoped>\n",
       "    .dataframe tbody tr th:only-of-type {\n",
       "        vertical-align: middle;\n",
       "    }\n",
       "\n",
       "    .dataframe tbody tr th {\n",
       "        vertical-align: top;\n",
       "    }\n",
       "\n",
       "    .dataframe thead th {\n",
       "        text-align: right;\n",
       "    }\n",
       "</style>\n",
       "<table border=\"1\" class=\"dataframe\">\n",
       "  <thead>\n",
       "    <tr style=\"text-align: right;\">\n",
       "      <th></th>\n",
       "      <th>vidid</th>\n",
       "      <th>adview</th>\n",
       "      <th>views</th>\n",
       "      <th>likes</th>\n",
       "      <th>dislikes</th>\n",
       "      <th>comment</th>\n",
       "      <th>published</th>\n",
       "      <th>duration</th>\n",
       "      <th>category</th>\n",
       "    </tr>\n",
       "  </thead>\n",
       "  <tbody>\n",
       "    <tr>\n",
       "      <th>0</th>\n",
       "      <td>VID_18655</td>\n",
       "      <td>40</td>\n",
       "      <td>1031602</td>\n",
       "      <td>8523</td>\n",
       "      <td>363</td>\n",
       "      <td>1095</td>\n",
       "      <td>2016-09-14</td>\n",
       "      <td>PT7M37S</td>\n",
       "      <td>F</td>\n",
       "    </tr>\n",
       "    <tr>\n",
       "      <th>1</th>\n",
       "      <td>VID_14135</td>\n",
       "      <td>2</td>\n",
       "      <td>1707</td>\n",
       "      <td>56</td>\n",
       "      <td>2</td>\n",
       "      <td>6</td>\n",
       "      <td>2016-10-01</td>\n",
       "      <td>PT9M30S</td>\n",
       "      <td>D</td>\n",
       "    </tr>\n",
       "    <tr>\n",
       "      <th>2</th>\n",
       "      <td>VID_2187</td>\n",
       "      <td>1</td>\n",
       "      <td>2023</td>\n",
       "      <td>25</td>\n",
       "      <td>0</td>\n",
       "      <td>2</td>\n",
       "      <td>2016-07-02</td>\n",
       "      <td>PT2M16S</td>\n",
       "      <td>C</td>\n",
       "    </tr>\n",
       "    <tr>\n",
       "      <th>3</th>\n",
       "      <td>VID_23096</td>\n",
       "      <td>6</td>\n",
       "      <td>620860</td>\n",
       "      <td>777</td>\n",
       "      <td>161</td>\n",
       "      <td>153</td>\n",
       "      <td>2016-07-27</td>\n",
       "      <td>PT4M22S</td>\n",
       "      <td>H</td>\n",
       "    </tr>\n",
       "    <tr>\n",
       "      <th>4</th>\n",
       "      <td>VID_10175</td>\n",
       "      <td>1</td>\n",
       "      <td>666</td>\n",
       "      <td>1</td>\n",
       "      <td>0</td>\n",
       "      <td>0</td>\n",
       "      <td>2016-06-29</td>\n",
       "      <td>PT31S</td>\n",
       "      <td>D</td>\n",
       "    </tr>\n",
       "  </tbody>\n",
       "</table>\n",
       "</div>"
      ],
      "text/plain": [
       "       vidid  adview    views likes dislikes comment   published duration  \\\n",
       "0  VID_18655      40  1031602  8523      363    1095  2016-09-14  PT7M37S   \n",
       "1  VID_14135       2     1707    56        2       6  2016-10-01  PT9M30S   \n",
       "2   VID_2187       1     2023    25        0       2  2016-07-02  PT2M16S   \n",
       "3  VID_23096       6   620860   777      161     153  2016-07-27  PT4M22S   \n",
       "4  VID_10175       1      666     1        0       0  2016-06-29    PT31S   \n",
       "\n",
       "  category  \n",
       "0        F  \n",
       "1        D  \n",
       "2        C  \n",
       "3        H  \n",
       "4        D  "
      ]
     },
     "execution_count": 70,
     "metadata": {},
     "output_type": "execute_result"
    }
   ],
   "source": [
    "train.head()"
   ]
  },
  {
   "cell_type": "code",
   "execution_count": 71,
   "id": "cf2ebcc6-bbc8-4198-bb0d-9e565f5f7cbc",
   "metadata": {},
   "outputs": [
    {
     "data": {
      "text/html": [
       "<div>\n",
       "<style scoped>\n",
       "    .dataframe tbody tr th:only-of-type {\n",
       "        vertical-align: middle;\n",
       "    }\n",
       "\n",
       "    .dataframe tbody tr th {\n",
       "        vertical-align: top;\n",
       "    }\n",
       "\n",
       "    .dataframe thead th {\n",
       "        text-align: right;\n",
       "    }\n",
       "</style>\n",
       "<table border=\"1\" class=\"dataframe\">\n",
       "  <thead>\n",
       "    <tr style=\"text-align: right;\">\n",
       "      <th></th>\n",
       "      <th>vidid</th>\n",
       "      <th>views</th>\n",
       "      <th>likes</th>\n",
       "      <th>dislikes</th>\n",
       "      <th>comment</th>\n",
       "      <th>published</th>\n",
       "      <th>duration</th>\n",
       "      <th>category</th>\n",
       "    </tr>\n",
       "  </thead>\n",
       "  <tbody>\n",
       "    <tr>\n",
       "      <th>0</th>\n",
       "      <td>VID_1054</td>\n",
       "      <td>440238</td>\n",
       "      <td>6153</td>\n",
       "      <td>218</td>\n",
       "      <td>1377</td>\n",
       "      <td>2017-02-18</td>\n",
       "      <td>PT7M29S</td>\n",
       "      <td>B</td>\n",
       "    </tr>\n",
       "    <tr>\n",
       "      <th>1</th>\n",
       "      <td>VID_18629</td>\n",
       "      <td>1040132</td>\n",
       "      <td>8171</td>\n",
       "      <td>340</td>\n",
       "      <td>1047</td>\n",
       "      <td>2016-06-28</td>\n",
       "      <td>PT6M29S</td>\n",
       "      <td>F</td>\n",
       "    </tr>\n",
       "    <tr>\n",
       "      <th>2</th>\n",
       "      <td>VID_13967</td>\n",
       "      <td>28534</td>\n",
       "      <td>31</td>\n",
       "      <td>11</td>\n",
       "      <td>1</td>\n",
       "      <td>2014-03-10</td>\n",
       "      <td>PT37M54S</td>\n",
       "      <td>D</td>\n",
       "    </tr>\n",
       "    <tr>\n",
       "      <th>3</th>\n",
       "      <td>VID_19442</td>\n",
       "      <td>1316715</td>\n",
       "      <td>2284</td>\n",
       "      <td>250</td>\n",
       "      <td>274</td>\n",
       "      <td>2010-06-05</td>\n",
       "      <td>PT9M55S</td>\n",
       "      <td>G</td>\n",
       "    </tr>\n",
       "    <tr>\n",
       "      <th>4</th>\n",
       "      <td>VID_770</td>\n",
       "      <td>1893173</td>\n",
       "      <td>2519</td>\n",
       "      <td>225</td>\n",
       "      <td>116</td>\n",
       "      <td>2016-09-03</td>\n",
       "      <td>PT3M8S</td>\n",
       "      <td>B</td>\n",
       "    </tr>\n",
       "  </tbody>\n",
       "</table>\n",
       "</div>"
      ],
      "text/plain": [
       "       vidid    views likes dislikes comment   published  duration category\n",
       "0   VID_1054   440238  6153      218    1377  2017-02-18   PT7M29S        B\n",
       "1  VID_18629  1040132  8171      340    1047  2016-06-28   PT6M29S        F\n",
       "2  VID_13967    28534    31       11       1  2014-03-10  PT37M54S        D\n",
       "3  VID_19442  1316715  2284      250     274  2010-06-05   PT9M55S        G\n",
       "4    VID_770  1893173  2519      225     116  2016-09-03    PT3M8S        B"
      ]
     },
     "execution_count": 71,
     "metadata": {},
     "output_type": "execute_result"
    }
   ],
   "source": [
    "test.head()"
   ]
  },
  {
   "cell_type": "code",
   "execution_count": 72,
   "id": "417094c4-87df-4e69-b15c-d785ae7243da",
   "metadata": {},
   "outputs": [],
   "source": [
    "import pandas as pd"
   ]
  },
  {
   "cell_type": "code",
   "execution_count": 73,
   "id": "58d1362b-6627-4270-9df0-7736e21cc2e7",
   "metadata": {},
   "outputs": [],
   "source": [
    "numeric_cols = ['views', 'likes', 'dislikes', 'comment']"
   ]
  },
  {
   "cell_type": "code",
   "execution_count": 74,
   "id": "6d3bab7e-0f15-4d2f-a214-5177f3280b5b",
   "metadata": {},
   "outputs": [
    {
     "name": "stdout",
     "output_type": "stream",
     "text": [
      "Unique values in views column:\n",
      "['1031602' '1707' '2023' ... '665673' '3479' '963']\n",
      "Unique values in likes column:\n",
      "['8523' '56' '25' ... '18677' '1137' '3849']\n",
      "Unique values in dislikes column:\n",
      "['363' '2' '0' ... '2124' '1046' '584']\n",
      "Unique values in comment column:\n",
      "['1095' '6' '2' ... '1777' '1686' '3971']\n"
     ]
    }
   ],
   "source": [
    "for col in numeric_cols:\n",
    "    print(f\"Unique values in {col} column:\")\n",
    "    print(train[col].unique())\n"
   ]
  },
  {
   "cell_type": "code",
   "execution_count": 76,
   "id": "949e846b-c78d-4c43-a6cc-5be1408feded",
   "metadata": {},
   "outputs": [
    {
     "name": "stdout",
     "output_type": "stream",
     "text": [
      "Unique values in views column:\n",
      "['440238' '1040132' '28534' ... '1891692' '714859' '5297']\n",
      "Unique values in likes column:\n",
      "['6153' '8171' '31' ... '888' '6085' '4606']\n",
      "Unique values in dislikes column:\n",
      "['218' '340' '11' ... '1425' '1069' '1109']\n",
      "Unique values in comment column:\n",
      "['1377' '1047' '1' ... '265' '2400' '534']\n"
     ]
    }
   ],
   "source": [
    "for col in numeric_cols:\n",
    "    print(f\"Unique values in {col} column:\")\n",
    "    print(test[col].unique())\n"
   ]
  },
  {
   "cell_type": "code",
   "execution_count": 77,
   "id": "028c667d-1130-4227-963d-892608a0389f",
   "metadata": {},
   "outputs": [
    {
     "name": "stdout",
     "output_type": "stream",
     "text": [
      "views       float64\n",
      "likes       float64\n",
      "dislikes    float64\n",
      "comment     float64\n",
      "dtype: object\n",
      "       views   likes  dislikes  comment\n",
      "0  1031602.0  8523.0     363.0   1095.0\n",
      "1     1707.0    56.0       2.0      6.0\n",
      "2     2023.0    25.0       0.0      2.0\n",
      "3   620860.0   777.0     161.0    153.0\n",
      "4      666.0     1.0       0.0      0.0\n"
     ]
    }
   ],
   "source": [
    "\n",
    "for col in numeric_cols:\n",
    "    train[col] = train[col].astype(str).str.replace(',', '').str.strip()  \n",
    "    train[col] = pd.to_numeric(train[col], errors='coerce').fillna(0)  \n",
    "    \n",
    "    test[col] = test[col].astype(str).str.replace(',', '').str.strip() \n",
    "    test[col] = pd.to_numeric(test[col], errors='coerce').fillna(0)\n",
    "\n",
    "# Check conversion\n",
    "print(train[numeric_cols].dtypes)\n",
    "print(train[numeric_cols].head())\n"
   ]
  },
  {
   "cell_type": "code",
   "execution_count": 78,
   "id": "9f09f549-f9c3-4a10-95fb-30071d5b9975",
   "metadata": {},
   "outputs": [
    {
     "name": "stdout",
     "output_type": "stream",
     "text": [
      "   category\n",
      "0         5\n",
      "1         3\n",
      "2         2\n",
      "3         7\n",
      "4         3\n",
      "   category\n",
      "0         1\n",
      "1         5\n",
      "2         3\n",
      "3         6\n",
      "4         1\n"
     ]
    }
   ],
   "source": [
    "from sklearn.preprocessing import LabelEncoder\n",
    "\n",
    "# Label Encoder initialize \n",
    "encoder = LabelEncoder()\n",
    "\n",
    "# 'category' column ko encode \n",
    "train['category'] = encoder.fit_transform(train['category'])\n",
    "test['category'] = encoder.transform(test['category'])\n",
    "\n",
    "# Category encoding check \n",
    "print(train[['category']].head())\n",
    "print(test[['category']].head())\n"
   ]
  },
  {
   "cell_type": "code",
   "execution_count": 79,
   "id": "e097bbeb-3320-472a-bd62-70ad1ab636e1",
   "metadata": {},
   "outputs": [
    {
     "name": "stdout",
     "output_type": "stream",
     "text": [
      "   adview      views   likes  dislikes  comment  category\n",
      "0      40  1031602.0  8523.0     363.0   1095.0         5\n",
      "1       2     1707.0    56.0       2.0      6.0         3\n",
      "2       1     2023.0    25.0       0.0      2.0         2\n",
      "3       6   620860.0   777.0     161.0    153.0         7\n",
      "4       1      666.0     1.0       0.0      0.0         3\n",
      "       views   likes  dislikes  comment  category\n",
      "0   440238.0  6153.0     218.0   1377.0         1\n",
      "1  1040132.0  8171.0     340.0   1047.0         5\n",
      "2    28534.0    31.0      11.0      1.0         3\n",
      "3  1316715.0  2284.0     250.0    274.0         6\n",
      "4  1893173.0  2519.0     225.0    116.0         1\n"
     ]
    }
   ],
   "source": [
    "# Remove unwanted columns\n",
    "train.drop(['vidid', 'published', 'duration'], axis=1, inplace=True)\n",
    "test.drop(['vidid', 'published', 'duration'], axis=1, inplace=True)\n",
    "\n",
    "# Check final dataset structure\n",
    "print(train.head())\n",
    "print(test.head())\n"
   ]
  },
  {
   "cell_type": "code",
   "execution_count": 80,
   "id": "b45505fb-845c-4bcf-93ea-386dc4f890f2",
   "metadata": {},
   "outputs": [
    {
     "name": "stdout",
     "output_type": "stream",
     "text": [
      "Feature Shape: (14999, 5)\n",
      "Target Shape: (14999,)\n"
     ]
    }
   ],
   "source": [
    "# Features (X) aur target (y) define \n",
    "X = train.drop(['adview'], axis=1)\n",
    "y = train['adview']\n",
    "\n",
    "# Data structure check \n",
    "print(\"Feature Shape:\", X.shape)\n",
    "print(\"Target Shape:\", y.shape)\n"
   ]
  },
  {
   "cell_type": "code",
   "execution_count": 81,
   "id": "15889b74-3e1c-4736-b1e3-50914ec1e1a6",
   "metadata": {},
   "outputs": [
    {
     "name": "stdout",
     "output_type": "stream",
     "text": [
      "Columns in X: Index(['views', 'likes', 'dislikes', 'comment', 'category'], dtype='object')\n",
      "Columns in test_df: Index(['views', 'likes', 'dislikes', 'comment', 'category'], dtype='object')\n",
      "\n",
      "Shape of X: (14999, 5)\n",
      "Shape of test_df: (8764, 5)\n"
     ]
    }
   ],
   "source": [
    "print(\"Columns in X:\", X.columns)\n",
    "print(\"Columns in test_df:\", test.columns)\n",
    "\n",
    "print(\"\\nShape of X:\", X.shape)\n",
    "print(\"Shape of test_df:\", test.shape)\n"
   ]
  },
  {
   "cell_type": "code",
   "execution_count": 82,
   "id": "04b99592-cf03-4ddb-a85f-c7b56f39a2fd",
   "metadata": {},
   "outputs": [
    {
     "name": "stdout",
     "output_type": "stream",
     "text": [
      "Columns in X: Index(['views', 'likes', 'dislikes', 'comment', 'category'], dtype='object')\n",
      "Columns in test_df: Index(['adview', 'views', 'likes', 'dislikes', 'comment', 'category'], dtype='object')\n",
      "\n",
      "Shape of X: (14999, 5)\n",
      "Shape of test_df: (14999, 6)\n"
     ]
    }
   ],
   "source": [
    "print(\"Columns in X:\", X.columns)\n",
    "print(\"Columns in test_df:\", train.columns)\n",
    "\n",
    "print(\"\\nShape of X:\", X.shape)\n",
    "print(\"Shape of test_df:\", train.shape)"
   ]
  },
  {
   "cell_type": "code",
   "execution_count": 83,
   "id": "137c86c4-1de4-41f1-bd1a-a0764b93af13",
   "metadata": {},
   "outputs": [],
   "source": [
    "# Ensure test_df has same columns as X\n",
    "test = test[X.columns]  \n"
   ]
  },
  {
   "cell_type": "code",
   "execution_count": 85,
   "id": "be22c3bf-c6ac-4166-83fc-e49f71a98b63",
   "metadata": {},
   "outputs": [
    {
     "name": "stdout",
     "output_type": "stream",
     "text": [
      "Feature scaling complete!\n"
     ]
    }
   ],
   "source": [
    "from sklearn.preprocessing import StandardScaler\n",
    "\n",
    "# StandardScaler initialize \n",
    "scaler = StandardScaler()\n",
    "\n",
    "# Sirf numeric features select \n",
    "X_scaled = scaler.fit_transform(X)  \n",
    "X_test_scaled = scaler.transform(test)  \n",
    "\n",
    "print(\"Feature scaling complete!\")\n"
   ]
  },
  {
   "cell_type": "code",
   "execution_count": 86,
   "id": "e2ed771d-810e-45ff-9eb6-390228d85e65",
   "metadata": {},
   "outputs": [],
   "source": [
    "from sklearn.decomposition import PCA\n"
   ]
  },
  {
   "cell_type": "code",
   "execution_count": 88,
   "id": "0413546a-8bef-4003-b5cf-335934f4a046",
   "metadata": {},
   "outputs": [
    {
     "name": "stdout",
     "output_type": "stream",
     "text": [
      "PCA Applied Successfully!\n",
      "Shape of X_pca: (14999, 5)\n",
      "Shape of X_test_pca: (8764, 5)\n"
     ]
    }
   ],
   "source": [
    "from sklearn.decomposition import PCA  \n",
    "\n",
    "# PCA apply \n",
    "pca = PCA(n_components=5)  \n",
    "X_pca = pca.fit_transform(X_scaled)  \n",
    "X_test_pca = pca.transform(X_test_scaled)  \n",
    "\n",
    "# Check shape\n",
    "print(\"PCA Applied Successfully!\")\n",
    "print(\"Shape of X_pca:\", X_pca.shape)\n",
    "print(\"Shape of X_test_pca:\", X_test_pca.shape)\n"
   ]
  },
  {
   "cell_type": "code",
   "execution_count": 89,
   "id": "f3480184-d98d-43e9-ad11-50aae380d543",
   "metadata": {},
   "outputs": [],
   "source": [
    "from sklearn.model_selection import train_test_split\n"
   ]
  },
  {
   "cell_type": "code",
   "execution_count": 90,
   "id": "d9a71fc8-5ee3-404c-92e1-b59eae41d627",
   "metadata": {},
   "outputs": [
    {
     "name": "stdout",
     "output_type": "stream",
     "text": [
      "Training Samples: (11999, 5)\n",
      "Validation Samples: (3000, 5)\n"
     ]
    }
   ],
   "source": [
    "from sklearn.model_selection import train_test_split  \n",
    "\n",
    "# Train-test split apply \n",
    "X_train, X_val, y_train, y_val = train_test_split(X_pca, y, test_size=0.2, random_state=42)\n",
    "\n",
    "# Check split data\n",
    "print(\"Training Samples:\", X_train.shape)\n",
    "print(\"Validation Samples:\", X_val.shape)\n"
   ]
  },
  {
   "cell_type": "code",
   "execution_count": 91,
   "id": "ba838842-6fc0-4ee2-a3da-6f2eebff9ed7",
   "metadata": {},
   "outputs": [],
   "source": [
    "from tensorflow.keras.models import Sequential\n",
    "from tensorflow.keras.layers import Dense\n"
   ]
  },
  {
   "cell_type": "code",
   "execution_count": 100,
   "id": "95211567-e8ba-4b99-831e-351eaadf3746",
   "metadata": {},
   "outputs": [
    {
     "name": "stderr",
     "output_type": "stream",
     "text": [
      "C:\\Users\\ASUS\\anconda  installer\\Lib\\site-packages\\keras\\src\\layers\\core\\dense.py:87: UserWarning: Do not pass an `input_shape`/`input_dim` argument to a layer. When using Sequential models, prefer using an `Input(shape)` object as the first layer in the model instead.\n",
      "  super().__init__(activity_regularizer=activity_regularizer, **kwargs)\n"
     ]
    },
    {
     "data": {
      "text/html": [
       "<pre style=\"white-space:pre;overflow-x:auto;line-height:normal;font-family:Menlo,'DejaVu Sans Mono',consolas,'Courier New',monospace\"><span style=\"font-weight: bold\">Model: \"sequential_4\"</span>\n",
       "</pre>\n"
      ],
      "text/plain": [
       "\u001b[1mModel: \"sequential_4\"\u001b[0m\n"
      ]
     },
     "metadata": {},
     "output_type": "display_data"
    },
    {
     "data": {
      "text/html": [
       "<pre style=\"white-space:pre;overflow-x:auto;line-height:normal;font-family:Menlo,'DejaVu Sans Mono',consolas,'Courier New',monospace\">┏━━━━━━━━━━━━━━━━━━━━━━━━━━━━━━━━━━━━━━┳━━━━━━━━━━━━━━━━━━━━━━━━━━━━━┳━━━━━━━━━━━━━━━━━┓\n",
       "┃<span style=\"font-weight: bold\"> Layer (type)                         </span>┃<span style=\"font-weight: bold\"> Output Shape                </span>┃<span style=\"font-weight: bold\">         Param # </span>┃\n",
       "┡━━━━━━━━━━━━━━━━━━━━━━━━━━━━━━━━━━━━━━╇━━━━━━━━━━━━━━━━━━━━━━━━━━━━━╇━━━━━━━━━━━━━━━━━┩\n",
       "│ dense_12 (<span style=\"color: #0087ff; text-decoration-color: #0087ff\">Dense</span>)                     │ (<span style=\"color: #00d7ff; text-decoration-color: #00d7ff\">None</span>, <span style=\"color: #00af00; text-decoration-color: #00af00\">128</span>)                 │             <span style=\"color: #00af00; text-decoration-color: #00af00\">768</span> │\n",
       "├──────────────────────────────────────┼─────────────────────────────┼─────────────────┤\n",
       "│ dense_13 (<span style=\"color: #0087ff; text-decoration-color: #0087ff\">Dense</span>)                     │ (<span style=\"color: #00d7ff; text-decoration-color: #00d7ff\">None</span>, <span style=\"color: #00af00; text-decoration-color: #00af00\">64</span>)                  │           <span style=\"color: #00af00; text-decoration-color: #00af00\">8,256</span> │\n",
       "├──────────────────────────────────────┼─────────────────────────────┼─────────────────┤\n",
       "│ dense_14 (<span style=\"color: #0087ff; text-decoration-color: #0087ff\">Dense</span>)                     │ (<span style=\"color: #00d7ff; text-decoration-color: #00d7ff\">None</span>, <span style=\"color: #00af00; text-decoration-color: #00af00\">1</span>)                   │              <span style=\"color: #00af00; text-decoration-color: #00af00\">65</span> │\n",
       "└──────────────────────────────────────┴─────────────────────────────┴─────────────────┘\n",
       "</pre>\n"
      ],
      "text/plain": [
       "┏━━━━━━━━━━━━━━━━━━━━━━━━━━━━━━━━━━━━━━┳━━━━━━━━━━━━━━━━━━━━━━━━━━━━━┳━━━━━━━━━━━━━━━━━┓\n",
       "┃\u001b[1m \u001b[0m\u001b[1mLayer (type)                        \u001b[0m\u001b[1m \u001b[0m┃\u001b[1m \u001b[0m\u001b[1mOutput Shape               \u001b[0m\u001b[1m \u001b[0m┃\u001b[1m \u001b[0m\u001b[1m        Param #\u001b[0m\u001b[1m \u001b[0m┃\n",
       "┡━━━━━━━━━━━━━━━━━━━━━━━━━━━━━━━━━━━━━━╇━━━━━━━━━━━━━━━━━━━━━━━━━━━━━╇━━━━━━━━━━━━━━━━━┩\n",
       "│ dense_12 (\u001b[38;5;33mDense\u001b[0m)                     │ (\u001b[38;5;45mNone\u001b[0m, \u001b[38;5;34m128\u001b[0m)                 │             \u001b[38;5;34m768\u001b[0m │\n",
       "├──────────────────────────────────────┼─────────────────────────────┼─────────────────┤\n",
       "│ dense_13 (\u001b[38;5;33mDense\u001b[0m)                     │ (\u001b[38;5;45mNone\u001b[0m, \u001b[38;5;34m64\u001b[0m)                  │           \u001b[38;5;34m8,256\u001b[0m │\n",
       "├──────────────────────────────────────┼─────────────────────────────┼─────────────────┤\n",
       "│ dense_14 (\u001b[38;5;33mDense\u001b[0m)                     │ (\u001b[38;5;45mNone\u001b[0m, \u001b[38;5;34m1\u001b[0m)                   │              \u001b[38;5;34m65\u001b[0m │\n",
       "└──────────────────────────────────────┴─────────────────────────────┴─────────────────┘\n"
      ]
     },
     "metadata": {},
     "output_type": "display_data"
    },
    {
     "data": {
      "text/html": [
       "<pre style=\"white-space:pre;overflow-x:auto;line-height:normal;font-family:Menlo,'DejaVu Sans Mono',consolas,'Courier New',monospace\"><span style=\"font-weight: bold\"> Total params: </span><span style=\"color: #00af00; text-decoration-color: #00af00\">9,089</span> (35.50 KB)\n",
       "</pre>\n"
      ],
      "text/plain": [
       "\u001b[1m Total params: \u001b[0m\u001b[38;5;34m9,089\u001b[0m (35.50 KB)\n"
      ]
     },
     "metadata": {},
     "output_type": "display_data"
    },
    {
     "data": {
      "text/html": [
       "<pre style=\"white-space:pre;overflow-x:auto;line-height:normal;font-family:Menlo,'DejaVu Sans Mono',consolas,'Courier New',monospace\"><span style=\"font-weight: bold\"> Trainable params: </span><span style=\"color: #00af00; text-decoration-color: #00af00\">9,089</span> (35.50 KB)\n",
       "</pre>\n"
      ],
      "text/plain": [
       "\u001b[1m Trainable params: \u001b[0m\u001b[38;5;34m9,089\u001b[0m (35.50 KB)\n"
      ]
     },
     "metadata": {},
     "output_type": "display_data"
    },
    {
     "data": {
      "text/html": [
       "<pre style=\"white-space:pre;overflow-x:auto;line-height:normal;font-family:Menlo,'DejaVu Sans Mono',consolas,'Courier New',monospace\"><span style=\"font-weight: bold\"> Non-trainable params: </span><span style=\"color: #00af00; text-decoration-color: #00af00\">0</span> (0.00 B)\n",
       "</pre>\n"
      ],
      "text/plain": [
       "\u001b[1m Non-trainable params: \u001b[0m\u001b[38;5;34m0\u001b[0m (0.00 B)\n"
      ]
     },
     "metadata": {},
     "output_type": "display_data"
    }
   ],
   "source": [
    "from tensorflow.keras.models import Sequential\n",
    "from tensorflow.keras.layers import Dense\n",
    "\n",
    "# ANN model define \n",
    "model = Sequential([\n",
    "    Dense(128, activation='relu', input_shape=(X_train.shape[1],)),  # Input layer\n",
    "    Dense(64, activation='relu'),  # Hidden layer\n",
    "    Dense(1, activation='linear')  # Output layer\n",
    "])\n",
    "\n",
    "# Model compile \n",
    "model.compile(optimizer='adam', loss='mean_squared_error', metrics=['mae'])\n",
    "\n",
    "# Model summary \n",
    "model.summary()\n"
   ]
  },
  {
   "cell_type": "code",
   "execution_count": 104,
   "id": "85b5edcd-9001-4977-a089-d7061d318710",
   "metadata": {},
   "outputs": [
    {
     "name": "stdout",
     "output_type": "stream",
     "text": [
      "Epoch 1/10\n",
      "\u001b[1m1500/1500\u001b[0m \u001b[32m━━━━━━━━━━━━━━━━━━━━\u001b[0m\u001b[37m\u001b[0m \u001b[1m6s\u001b[0m 4ms/step - loss: 869235008.0000 - mae: 3390.0498 - val_loss: 10756557824.0000 - val_mae: 5070.2266\n",
      "Epoch 2/10\n",
      "\u001b[1m1500/1500\u001b[0m \u001b[32m━━━━━━━━━━━━━━━━━━━━\u001b[0m\u001b[37m\u001b[0m \u001b[1m10s\u001b[0m 4ms/step - loss: 1134327552.0000 - mae: 3845.3518 - val_loss: 10756472832.0000 - val_mae: 5030.0586\n",
      "Epoch 3/10\n",
      "\u001b[1m1500/1500\u001b[0m \u001b[32m━━━━━━━━━━━━━━━━━━━━\u001b[0m\u001b[37m\u001b[0m \u001b[1m11s\u001b[0m 4ms/step - loss: 1064336064.0000 - mae: 3533.3931 - val_loss: 10756494336.0000 - val_mae: 5041.7612\n",
      "Epoch 4/10\n",
      "\u001b[1m1500/1500\u001b[0m \u001b[32m━━━━━━━━━━━━━━━━━━━━\u001b[0m\u001b[37m\u001b[0m \u001b[1m11s\u001b[0m 4ms/step - loss: 1163073280.0000 - mae: 3431.7717 - val_loss: 10756210688.0000 - val_mae: 5078.6299\n",
      "Epoch 5/10\n",
      "\u001b[1m1500/1500\u001b[0m \u001b[32m━━━━━━━━━━━━━━━━━━━━\u001b[0m\u001b[37m\u001b[0m \u001b[1m9s\u001b[0m 4ms/step - loss: 355937600.0000 - mae: 2740.8872 - val_loss: 10756291584.0000 - val_mae: 5145.4556\n",
      "Epoch 6/10\n",
      "\u001b[1m1500/1500\u001b[0m \u001b[32m━━━━━━━━━━━━━━━━━━━━\u001b[0m\u001b[37m\u001b[0m \u001b[1m11s\u001b[0m 4ms/step - loss: 566091264.0000 - mae: 3358.4048 - val_loss: 10756238336.0000 - val_mae: 5124.6182\n",
      "Epoch 7/10\n",
      "\u001b[1m1500/1500\u001b[0m \u001b[32m━━━━━━━━━━━━━━━━━━━━\u001b[0m\u001b[37m\u001b[0m \u001b[1m10s\u001b[0m 4ms/step - loss: 1072447360.0000 - mae: 3663.5332 - val_loss: 10756028416.0000 - val_mae: 5132.3472\n",
      "Epoch 8/10\n",
      "\u001b[1m1500/1500\u001b[0m \u001b[32m━━━━━━━━━━━━━━━━━━━━\u001b[0m\u001b[37m\u001b[0m \u001b[1m10s\u001b[0m 4ms/step - loss: 1105413760.0000 - mae: 3860.4155 - val_loss: 10756165632.0000 - val_mae: 5079.2456\n",
      "Epoch 9/10\n",
      "\u001b[1m1500/1500\u001b[0m \u001b[32m━━━━━━━━━━━━━━━━━━━━\u001b[0m\u001b[37m\u001b[0m \u001b[1m10s\u001b[0m 4ms/step - loss: 482255040.0000 - mae: 2909.7324 - val_loss: 10755912704.0000 - val_mae: 5125.8574\n",
      "Epoch 10/10\n",
      "\u001b[1m1500/1500\u001b[0m \u001b[32m━━━━━━━━━━━━━━━━━━━━\u001b[0m\u001b[37m\u001b[0m \u001b[1m10s\u001b[0m 4ms/step - loss: 567514624.0000 - mae: 3362.9480 - val_loss: 10755815424.0000 - val_mae: 5104.0967\n",
      "Model training complete!\n"
     ]
    }
   ],
   "source": [
    "history = model.fit(X_train, y_train, epochs=10, batch_size=8, validation_data=(X_val, y_val))\n",
    "\n",
    "print(\"Model training complete!\")\n"
   ]
  },
  {
   "cell_type": "code",
   "execution_count": 102,
   "id": "b45bb74a-d7b7-4ef4-9f26-3a79bf9a54ee",
   "metadata": {},
   "outputs": [
    {
     "name": "stdout",
     "output_type": "stream",
     "text": [
      "\u001b[1m94/94\u001b[0m \u001b[32m━━━━━━━━━━━━━━━━━━━━\u001b[0m\u001b[37m\u001b[0m \u001b[1m1s\u001b[0m 3ms/step - loss: 14467048448.0000 - mae: 5893.8315\n",
      "Validation MAE: 5103.12646484375\n"
     ]
    },
    {
     "data": {
      "image/png": "[encoded data removed]",
      "text/plain": [
       "<Figure size 640x480 with 1 Axes>"
      ]
     },
     "metadata": {},
     "output_type": "display_data"
    }
   ],
   "source": [
    "# Model evaluation\n",
    "loss, mae = model.evaluate(X_val, y_val)\n",
    "print(f\"Validation MAE: {mae}\")\n",
    "\n",
    "# Accuracy plot \n",
    "plt.plot(history.history['mae'], label='Train MAE')\n",
    "plt.plot(history.history['val_mae'], label='Validation MAE')\n",
    "plt.xlabel('Epochs')\n",
    "plt.ylabel('Mean Absolute Error')\n",
    "plt.legend()\n",
    "plt.show()\n"
   ]
  },
  {
   "cell_type": "code",
   "execution_count": 106,
   "id": "daa21de7-6eb8-4216-9ff3-2695f80e91b1",
   "metadata": {},
   "outputs": [
    {
     "name": "stdout",
     "output_type": "stream",
     "text": [
      "\u001b[1m274/274\u001b[0m \u001b[32m━━━━━━━━━━━━━━━━━━━━\u001b[0m\u001b[37m\u001b[0m \u001b[1m0s\u001b[0m 2ms/step\n",
      "Predictions saved to predicted_adviews.csv!\n"
     ]
    }
   ],
   "source": [
    "test_predictions = model.predict(X_test_pca)\n",
    "test['predicted_adviews'] = test_predictions\n",
    "\n",
    "# Predictions ko save karo\n",
    "test.to_csv(\"predicted_adviews.csv\", index=False)\n",
    "\n",
    "print(\"Predictions saved to predicted_adviews.csv!\")\n"
   ]
  },
  {
   "cell_type": "code",
   "execution_count": 108,
   "id": "61e7c05d-df9f-432b-8da5-a225f514632b",
   "metadata": {},
   "outputs": [
    {
     "name": "stdout",
     "output_type": "stream",
     "text": [
      "\u001b[1m1/1\u001b[0m \u001b[32m━━━━━━━━━━━━━━━━━━━━\u001b[0m\u001b[37m\u001b[0m \u001b[1m0s\u001b[0m 90ms/step\n"
     ]
    },
    {
     "name": "stderr",
     "output_type": "stream",
     "text": [
      "C:\\Users\\ASUS\\anconda  installer\\Lib\\site-packages\\sklearn\\base.py:493: UserWarning: X does not have valid feature names, but StandardScaler was fitted with feature names\n",
      "  warnings.warn(\n"
     ]
    },
    {
     "name": "stdout",
     "output_type": "stream",
     "text": [
      "Predicted Ad Views: [[1812.2627]]\n"
     ]
    }
   ],
   "source": [
    "def predict_new_sample(model, sample_data, pca, scaler):\n",
    "    sample_scaled = scaler.transform([sample_data])\n",
    "    sample_pca = pca.transform(sample_scaled)\n",
    "    prediction = model.predict(sample_pca)\n",
    "    return prediction\n",
    "sample = X.iloc[0] \n",
    "predicted_value = predict_new_sample(model, sample, pca, scaler)\n",
    "print(f\"Predicted Ad Views: {predicted_value}\")\n"
   ]
  },
  {
   "cell_type": "code",
   "execution_count": 109,
   "id": "943222f4-c4be-455c-8505-eca738d3bb08",
   "metadata": {},
   "outputs": [
    {
     "name": "stdout",
     "output_type": "stream",
     "text": [
      "\u001b[1m94/94\u001b[0m \u001b[32m━━━━━━━━━━━━━━━━━━━━\u001b[0m\u001b[37m\u001b[0m \u001b[1m0s\u001b[0m 2ms/step\n"
     ]
    },
    {
     "data": {
      "image/png": "[encoded data removed]",
      "text/plain": [
       "<Figure size 800x600 with 1 Axes>"
      ]
     },
     "metadata": {},
     "output_type": "display_data"
    }
   ],
   "source": [
    "import matplotlib.pyplot as plt\n",
    "\n",
    "# Scatter plot: Actual vs Predicted\n",
    "plt.figure(figsize=(8,6))\n",
    "plt.scatter(y_val, model.predict(X_val), alpha=0.5, color=\"blue\")\n",
    "plt.xlabel(\"Actual Ad Views\")\n",
    "plt.ylabel(\"Predicted Ad Views\")\n",
    "plt.title(\"Actual vs Predicted Ad Views\")\n",
    "plt.show()\n"
   ]
  },
  {
   "cell_type": "code",
   "execution_count": 110,
   "id": "62b9fe09-b2b2-44f4-8403-3930655621c6",
   "metadata": {},
   "outputs": [
    {
     "name": "stdout",
     "output_type": "stream",
     "text": [
      "\u001b[1m94/94\u001b[0m \u001b[32m━━━━━━━━━━━━━━━━━━━━\u001b[0m\u001b[37m\u001b[0m \u001b[1m0s\u001b[0m 2ms/step\n"
     ]
    },
    {
     "data": {
      "image/png": "[encoded data removed]",
      "text/plain": [
       "<Figure size 800x500 with 1 Axes>"
      ]
     },
     "metadata": {},
     "output_type": "display_data"
    }
   ],
   "source": [
    "import seaborn as sns\n",
    "import numpy as np\n",
    "\n",
    "# Error calculation\n",
    "errors = y_val - model.predict(X_val).flatten()\n",
    "\n",
    "# Histogram of errors\n",
    "plt.figure(figsize=(8,5))\n",
    "sns.histplot(errors, kde=True, bins=30, color='red')\n",
    "plt.xlabel(\"Prediction Error\")\n",
    "plt.ylabel(\"Frequency\")\n",
    "plt.title(\"Error Distribution\")\n",
    "plt.show()\n"
   ]
  },
  {
   "cell_type": "code",
   "execution_count": 111,
   "id": "5235e4aa-a60a-492a-b0eb-fead43386345",
   "metadata": {},
   "outputs": [
    {
     "data": {
      "image/png": "[encoded data removed]",
      "text/plain": [
       "<Figure size 1000x400 with 2 Axes>"
      ]
     },
     "metadata": {},
     "output_type": "display_data"
    }
   ],
   "source": [
    "# Training loss & MAE plot\n",
    "plt.figure(figsize=(10,4))\n",
    "\n",
    "# Loss plot\n",
    "plt.subplot(1,2,1)\n",
    "plt.plot(history.history['loss'], label='Train Loss')\n",
    "plt.plot(history.history['val_loss'], label='Validation Loss')\n",
    "plt.xlabel('Epochs')\n",
    "plt.ylabel('Loss')\n",
    "plt.legend()\n",
    "plt.title(\"Loss Trend\")\n",
    "\n",
    "# MAE plot\n",
    "plt.subplot(1,2,2)\n",
    "plt.plot(history.history['mae'], label='Train MAE')\n",
    "plt.plot(history.history['val_mae'], label='Validation MAE')\n",
    "plt.xlabel('Epochs')\n",
    "plt.ylabel('Mean Absolute Error')\n",
    "plt.legend()\n",
    "plt.title(\"MAE Trend\")\n",
    "\n",
    "plt.show()\n"
   ]
  },
  {
   "cell_type": "code",
   "execution_count": 112,
   "id": "001cf227-3741-4e8a-979f-4c49c83ad7c0",
   "metadata": {},
   "outputs": [
    {
     "name": "stdout",
     "output_type": "stream",
     "text": [
      "Index(['vidid', 'views', 'likes', 'dislikes', 'comment', 'published',\n",
      "       'duration', 'category', 'predicted_adviews'],\n",
      "      dtype='object')\n"
     ]
    }
   ],
   "source": [
    "print(test.columns)  \n"
   ]
  },
  {
   "cell_type": "code",
   "execution_count": 115,
   "id": "678c29e2-8f2f-4e7e-a8f8-4131accbd927",
   "metadata": {},
   "outputs": [
    {
     "name": "stderr",
     "output_type": "stream",
     "text": [
      "C:\\Users\\ASUS\\AppData\\Local\\Temp\\ipykernel_16960\\1566176795.py:8: FutureWarning: \n",
      "\n",
      "Passing `palette` without assigning `hue` is deprecated and will be removed in v0.14.0. Assign the `x` variable to `hue` and set `legend=False` for the same effect.\n",
      "\n",
      "  sns.barplot(x=top_10[\"category\"], y=top_10[\"predicted_adviews\"], palette=\"coolwarm\")\n"
     ]
    },
    {
     "data": {
      "image/png": "[encoded data removed]",
      "text/plain": [
       "<Figure size 800x500 with 1 Axes>"
      ]
     },
     "metadata": {},
     "output_type": "display_data"
    }
   ],
   "source": [
    "import seaborn as sns\n",
    "import matplotlib.pyplot as plt\n",
    "\n",
    "# Top 10 predictions plot\n",
    "top_10 = test.nlargest(10, \"predicted_adviews\")\n",
    "\n",
    "plt.figure(figsize=(8,5))\n",
    "sns.barplot(x=top_10[\"category\"], y=top_10[\"predicted_adviews\"], palette=\"coolwarm\")\n",
    "plt.xlabel(\"Category\")\n",
    "plt.ylabel(\"Predicted Ad Views\")\n",
    "plt.title(\"Top 10 Predicted Ad Views by Category\")\n",
    "plt.xticks(rotation=45)\n",
    "plt.show()\n"
   ]
  },
  {
   "cell_type": "code",
   "execution_count": null,
   "id": "7903ba07-281c-431c-bd52-cbce6065f570",
   "metadata": {},
   "outputs": [],
   "source": [
    "#THE END "
   ]
  },
  {
   "cell_type": "code",
   "execution_count": null,
   "id": "934ee819-6164-4616-9dd2-70eb15702699",
   "metadata": {},
   "outputs": [],
   "source": []
  }
 ],
 "metadata": {
  "kernelspec": {
   "display_name": "Python 3 (ipykernel)",
   "language": "python",
   "name": "python3"
  },
  "language_info": {
   "codemirror_mode": {
    "name": "ipython",
    "version": 3
   },
   "file_extension": ".py",
   "mimetype": "text/x-python",
   "name": "python",
   "nbconvert_exporter": "python",
   "pygments_lexer": "ipython3",
   "version": "3.12.7"
  }
 },
 "nbformat": 4,
 "nbformat_minor": 5
}
